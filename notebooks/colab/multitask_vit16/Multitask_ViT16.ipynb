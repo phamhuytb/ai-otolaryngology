{
  "nbformat": 4,
  "nbformat_minor": 0,
  "metadata": {
    "colab": {
      "provenance": []
    },
    "kernelspec": {
      "name": "python3",
      "display_name": "Python 3"
    },
    "language_info": {
      "name": "python"
    }
  },
  "cells": [
    {
      "cell_type": "code",
      "source": [
        "from utils.trainers.models import ViT_Multitask\n",
        "import json\n",
        "import yaml\n",
        "\n",
        "config_path = \".yaml\"\n",
        "annotations_path = \".json\"\n",
        "model_path = \".pth\"\n",
        "\n",
        "# Load config\n",
        "with open(config_path)) as file:\n",
        "        config = yaml.safe_load(file)\n",
        "with open(file_path, 'r', encoding='utf-8') as file:\n",
        "        annotations = json.load(file)\n",
        "\n",
        "MODEL = ViT_Multitask(config, annotations)\n",
        "MODEL.load_state_dict(torch.load(model_path, map_location='cpu') )"
      ],
      "metadata": {
        "id": "aNjrEKfmB6d9"
      },
      "execution_count": null,
      "outputs": []
    },
    {
      "cell_type": "code",
      "source": [
        "from PIL import Image\n",
        "import torch.nn.functional as F\n",
        "\n",
        "model_path = \"google/vit-base-patch16-224\"\n",
        "processor = AutoImageProcessor.from_pretrained(model_path)\n",
        "\n",
        "img = Image.open('/content/f190ac023e759c2bc564.jpg')\n",
        "img_pt = processor(img, return_tensors='pt')\n",
        "\n",
        "MODEL.eval()\n",
        "out = MODEL(img_pt['pixel_values'])\n",
        "\n",
        "prob1 = F.softmax(out[0], dim=1)\n",
        "prob2 = F.softmax(out[1], dim=1)\n",
        "\n",
        "max_index1= torch.argmax(prob1, dim=1)\n",
        "max_index2 = torch.argmax(prob2, dim=1)\n",
        "\n",
        "print('{} disease'.format( annotations['list tasks'][max_index1[0] ] ))\n",
        "print('Name disease: {}'.format( annotations['list diseases'][max_index2[0]] ))"
      ],
      "metadata": {
        "id": "UWx7M-ptB9vL"
      },
      "execution_count": null,
      "outputs": []
    }
  ]
}