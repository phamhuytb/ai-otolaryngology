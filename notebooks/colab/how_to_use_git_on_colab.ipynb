{
  "cells": [
    {
      "cell_type": "code",
      "execution_count": 1,
      "metadata": {
        "colab": {
          "base_uri": "https://localhost:8080/"
        },
        "id": "_0WHTUmSNNM1",
        "outputId": "458e896d-1aac-4083-fd24-3b93c4057b35"
      },
      "outputs": [
        {
          "name": "stdout",
          "output_type": "stream",
          "text": [
            "Reading package lists... Done\n",
            "Building dependency tree... Done\n",
            "Reading state information... Done\n",
            "git is already the newest version (1:2.34.1-1ubuntu1.11).\n",
            "0 upgraded, 0 newly installed, 0 to remove and 45 not upgraded.\n"
          ]
        }
      ],
      "source": [
        "!apt install git"
      ]
    },
    {
      "cell_type": "code",
      "execution_count": 2,
      "metadata": {
        "colab": {
          "base_uri": "https://localhost:8080/"
        },
        "id": "4icsvcB0OyB6",
        "outputId": "0b65bffd-ebef-4e7e-f0f2-2330cf9d291e"
      },
      "outputs": [
        {
          "name": "stdout",
          "output_type": "stream",
          "text": [
            "fatal: destination path 'ai-otolaryngology' already exists and is not an empty directory.\n"
          ]
        }
      ],
      "source": [
        "# Replace the placeholders with your actual details\n",
        "username = \"Hieudinh1308\"\n",
        "token = \"Your token\"\n",
        "repo = \"ai-otolaryngology\"\n",
        "\n",
        "# Construct the clone URL with the personal access token\n",
        "clone_url = f\"https://{token}@github.com/{username}/{repo}.git\"\n",
        "\n",
        "# Clone the repository\n",
        "!git clone {clone_url}"
      ]
    },
    {
      "cell_type": "code",
      "execution_count": 3,
      "metadata": {
        "colab": {
          "base_uri": "https://localhost:8080/"
        },
        "id": "QkIlbfNTO3wg",
        "outputId": "e5fbf3da-733e-47e8-aec6-fb0dc19fd240"
      },
      "outputs": [
        {
          "name": "stdout",
          "output_type": "stream",
          "text": [
            "ai-otolaryngology  sample_data\n"
          ]
        }
      ],
      "source": [
        "!ls"
      ]
    },
    {
      "cell_type": "code",
      "execution_count": 8,
      "metadata": {
        "colab": {
          "base_uri": "https://localhost:8080/"
        },
        "id": "AnYJ-16XQhaN",
        "outputId": "f03fd214-e443-40eb-ca83-6c4a3fc6406c"
      },
      "outputs": [
        {
          "name": "stdout",
          "output_type": "stream",
          "text": [
            "/content/ai-otolaryngology\n",
            "config\tdataset  docs  KNN_example  models  notebooks  README.md  reports  requirements.txt  vit16\n"
          ]
        }
      ],
      "source": [
        "%cd ai-otolaryngology\n",
        "!ls"
      ]
    }
  ],
  "metadata": {
    "colab": {
      "provenance": []
    },
    "kernelspec": {
      "display_name": "Python 3",
      "name": "python3"
    },
    "language_info": {
      "name": "python"
    }
  },
  "nbformat": 4,
  "nbformat_minor": 0
}
